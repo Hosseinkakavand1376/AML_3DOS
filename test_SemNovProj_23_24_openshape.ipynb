{
  "cells": [
    {
      "cell_type": "code",
      "execution_count": null,
      "metadata": {
        "colab": {
          "base_uri": "https://localhost:8080/"
        },
        "id": "ZgsyPgayyUdn",
        "outputId": "add41bf0-d636-44cc-bb40-a72eef68e32c"
      },
      "outputs": [
        {
          "output_type": "stream",
          "name": "stdout",
          "text": [
            "2.3.0+cu121\n"
          ]
        }
      ],
      "source": [
        "import torch\n",
        "print(torch.__version__)"
      ]
    },
    {
      "cell_type": "code",
      "source": [
        "!python --version"
      ],
      "metadata": {
        "id": "-MRBev2KmUrw",
        "outputId": "f264f649-8a85-4519-d842-edcacc6e5aa5",
        "colab": {
          "base_uri": "https://localhost:8080/"
        }
      },
      "execution_count": null,
      "outputs": [
        {
          "output_type": "stream",
          "name": "stdout",
          "text": [
            "Python 3.10.12\n"
          ]
        }
      ]
    },
    {
      "cell_type": "code",
      "execution_count": null,
      "metadata": {
        "colab": {
          "base_uri": "https://localhost:8080/"
        },
        "id": "xW4MFKkaVaJe",
        "outputId": "ec78452a-fa1d-4f9f-df7b-09ecd38f166c"
      },
      "outputs": [
        {
          "output_type": "stream",
          "name": "stdout",
          "text": [
            "Collecting ninja\n",
            "  Downloading ninja-1.11.1.1-py2.py3-none-manylinux1_x86_64.manylinux_2_5_x86_64.whl (307 kB)\n",
            "\u001b[?25l     \u001b[90m━━━━━━━━━━━━━━━━━━━━━━━━━━━━━━━━━━━━━━━━\u001b[0m \u001b[32m0.0/307.2 kB\u001b[0m \u001b[31m?\u001b[0m eta \u001b[36m-:--:--\u001b[0m\r\u001b[2K     \u001b[91m━━━━━━━━━━━━━━━━━━━━━━━━━━━━━\u001b[0m\u001b[90m╺\u001b[0m\u001b[90m━━━━━━━━━━\u001b[0m \u001b[32m225.3/307.2 kB\u001b[0m \u001b[31m6.5 MB/s\u001b[0m eta \u001b[36m0:00:01\u001b[0m\r\u001b[2K     \u001b[90m━━━━━━━━━━━━━━━━━━━━━━━━━━━━━━━━━━━━━━━━\u001b[0m \u001b[32m307.2/307.2 kB\u001b[0m \u001b[31m5.9 MB/s\u001b[0m eta \u001b[36m0:00:00\u001b[0m\n",
            "\u001b[?25hInstalling collected packages: ninja\n",
            "Successfully installed ninja-1.11.1.1\n",
            "Cloning into 'Pointnet2_PyTorch'...\n",
            "remote: Enumerating objects: 706, done.\u001b[K\n",
            "remote: Counting objects: 100% (3/3), done.\u001b[K\n",
            "remote: Compressing objects: 100% (3/3), done.\u001b[K\n",
            "remote: Total 706 (delta 0), reused 1 (delta 0), pack-reused 703\u001b[K\n",
            "Receiving objects: 100% (706/706), 976.27 KiB | 2.58 MiB/s, done.\n",
            "Resolving deltas: 100% (391/391), done.\n",
            "/content/Pointnet2_PyTorch\n",
            "running install\n",
            "/usr/local/lib/python3.10/dist-packages/setuptools/_distutils/cmd.py:66: SetuptoolsDeprecationWarning: setup.py install is deprecated.\n",
            "!!\n",
            "\n",
            "        ********************************************************************************\n",
            "        Please avoid running ``setup.py`` directly.\n",
            "        Instead, use pypa/build, pypa/installer, pypa/build or\n",
            "        other standards-based tools.\n",
            "\n",
            "        See https://blog.ganssle.io/articles/2021/10/setup-py-deprecated.html for details.\n",
            "        ********************************************************************************\n",
            "\n",
            "!!\n",
            "  self.initialize_options()\n",
            "/usr/local/lib/python3.10/dist-packages/setuptools/_distutils/cmd.py:66: EasyInstallDeprecationWarning: easy_install command is deprecated.\n",
            "!!\n",
            "\n",
            "        ********************************************************************************\n",
            "        Please avoid running ``setup.py`` and ``easy_install``.\n",
            "        Instead, use pypa/build, pypa/installer, pypa/build or\n",
            "        other standards-based tools.\n",
            "\n",
            "        See https://github.com/pypa/setuptools/issues/917 for details.\n",
            "        ********************************************************************************\n",
            "\n",
            "!!\n",
            "  self.initialize_options()\n",
            "running bdist_egg\n",
            "running egg_info\n",
            "creating pointnet2.egg-info\n",
            "writing pointnet2.egg-info/PKG-INFO\n",
            "writing dependency_links to pointnet2.egg-info/dependency_links.txt\n",
            "writing requirements to pointnet2.egg-info/requires.txt\n",
            "writing top-level names to pointnet2.egg-info/top_level.txt\n",
            "writing manifest file 'pointnet2.egg-info/SOURCES.txt'\n",
            "reading manifest file 'pointnet2.egg-info/SOURCES.txt'\n",
            "reading manifest template 'MANIFEST.in'\n",
            "writing manifest file 'pointnet2.egg-info/SOURCES.txt'\n",
            "installing library code to build/bdist.linux-x86_64/egg\n",
            "running install_lib\n",
            "running build_py\n",
            "creating build\n",
            "creating build/lib\n",
            "creating build/lib/pointnet2\n",
            "copying pointnet2/__init__.py -> build/lib/pointnet2\n",
            "copying pointnet2/_version.py -> build/lib/pointnet2\n",
            "copying pointnet2/train.py -> build/lib/pointnet2\n",
            "creating build/lib/pointnet2/data\n",
            "copying pointnet2/data/data_utils.py -> build/lib/pointnet2/data\n",
            "copying pointnet2/data/__init__.py -> build/lib/pointnet2/data\n",
            "copying pointnet2/data/ModelNet40Loader.py -> build/lib/pointnet2/data\n",
            "copying pointnet2/data/Indoor3DSemSegLoader.py -> build/lib/pointnet2/data\n",
            "creating build/lib/pointnet2/models\n",
            "copying pointnet2/models/pointnet2_msg_sem.py -> build/lib/pointnet2/models\n",
            "copying pointnet2/models/__init__.py -> build/lib/pointnet2/models\n",
            "copying pointnet2/models/pointnet2_ssg_sem.py -> build/lib/pointnet2/models\n",
            "copying pointnet2/models/pointnet2_ssg_cls.py -> build/lib/pointnet2/models\n",
            "copying pointnet2/models/pointnet2_msg_cls.py -> build/lib/pointnet2/models\n",
            "creating build/bdist.linux-x86_64\n",
            "creating build/bdist.linux-x86_64/egg\n",
            "creating build/bdist.linux-x86_64/egg/pointnet2\n",
            "copying build/lib/pointnet2/__init__.py -> build/bdist.linux-x86_64/egg/pointnet2\n",
            "copying build/lib/pointnet2/_version.py -> build/bdist.linux-x86_64/egg/pointnet2\n",
            "creating build/bdist.linux-x86_64/egg/pointnet2/data\n",
            "copying build/lib/pointnet2/data/data_utils.py -> build/bdist.linux-x86_64/egg/pointnet2/data\n",
            "copying build/lib/pointnet2/data/__init__.py -> build/bdist.linux-x86_64/egg/pointnet2/data\n",
            "copying build/lib/pointnet2/data/ModelNet40Loader.py -> build/bdist.linux-x86_64/egg/pointnet2/data\n",
            "copying build/lib/pointnet2/data/Indoor3DSemSegLoader.py -> build/bdist.linux-x86_64/egg/pointnet2/data\n",
            "copying build/lib/pointnet2/train.py -> build/bdist.linux-x86_64/egg/pointnet2\n",
            "creating build/bdist.linux-x86_64/egg/pointnet2/models\n",
            "copying build/lib/pointnet2/models/pointnet2_msg_sem.py -> build/bdist.linux-x86_64/egg/pointnet2/models\n",
            "copying build/lib/pointnet2/models/__init__.py -> build/bdist.linux-x86_64/egg/pointnet2/models\n",
            "copying build/lib/pointnet2/models/pointnet2_ssg_sem.py -> build/bdist.linux-x86_64/egg/pointnet2/models\n",
            "copying build/lib/pointnet2/models/pointnet2_ssg_cls.py -> build/bdist.linux-x86_64/egg/pointnet2/models\n",
            "copying build/lib/pointnet2/models/pointnet2_msg_cls.py -> build/bdist.linux-x86_64/egg/pointnet2/models\n",
            "byte-compiling build/bdist.linux-x86_64/egg/pointnet2/__init__.py to __init__.cpython-310.pyc\n",
            "byte-compiling build/bdist.linux-x86_64/egg/pointnet2/_version.py to _version.cpython-310.pyc\n",
            "byte-compiling build/bdist.linux-x86_64/egg/pointnet2/data/data_utils.py to data_utils.cpython-310.pyc\n",
            "byte-compiling build/bdist.linux-x86_64/egg/pointnet2/data/__init__.py to __init__.cpython-310.pyc\n",
            "byte-compiling build/bdist.linux-x86_64/egg/pointnet2/data/ModelNet40Loader.py to ModelNet40Loader.cpython-310.pyc\n",
            "byte-compiling build/bdist.linux-x86_64/egg/pointnet2/data/Indoor3DSemSegLoader.py to Indoor3DSemSegLoader.cpython-310.pyc\n",
            "byte-compiling build/bdist.linux-x86_64/egg/pointnet2/train.py to train.cpython-310.pyc\n",
            "byte-compiling build/bdist.linux-x86_64/egg/pointnet2/models/pointnet2_msg_sem.py to pointnet2_msg_sem.cpython-310.pyc\n",
            "byte-compiling build/bdist.linux-x86_64/egg/pointnet2/models/__init__.py to __init__.cpython-310.pyc\n",
            "byte-compiling build/bdist.linux-x86_64/egg/pointnet2/models/pointnet2_ssg_sem.py to pointnet2_ssg_sem.cpython-310.pyc\n",
            "byte-compiling build/bdist.linux-x86_64/egg/pointnet2/models/pointnet2_ssg_cls.py to pointnet2_ssg_cls.cpython-310.pyc\n",
            "byte-compiling build/bdist.linux-x86_64/egg/pointnet2/models/pointnet2_msg_cls.py to pointnet2_msg_cls.cpython-310.pyc\n",
            "creating build/bdist.linux-x86_64/egg/EGG-INFO\n",
            "copying pointnet2.egg-info/PKG-INFO -> build/bdist.linux-x86_64/egg/EGG-INFO\n",
            "copying pointnet2.egg-info/SOURCES.txt -> build/bdist.linux-x86_64/egg/EGG-INFO\n",
            "copying pointnet2.egg-info/dependency_links.txt -> build/bdist.linux-x86_64/egg/EGG-INFO\n",
            "copying pointnet2.egg-info/requires.txt -> build/bdist.linux-x86_64/egg/EGG-INFO\n",
            "copying pointnet2.egg-info/top_level.txt -> build/bdist.linux-x86_64/egg/EGG-INFO\n",
            "zip_safe flag not set; analyzing archive contents...\n",
            "pointnet2.data.__pycache__.Indoor3DSemSegLoader.cpython-310: module references __file__\n",
            "pointnet2.data.__pycache__.ModelNet40Loader.cpython-310: module references __file__\n",
            "creating dist\n",
            "creating 'dist/pointnet2-3.0.0-py3.10.egg' and adding 'build/bdist.linux-x86_64/egg' to it\n",
            "removing 'build/bdist.linux-x86_64/egg' (and everything under it)\n",
            "Processing pointnet2-3.0.0-py3.10.egg\n",
            "creating /usr/local/lib/python3.10/dist-packages/pointnet2-3.0.0-py3.10.egg\n",
            "Extracting pointnet2-3.0.0-py3.10.egg to /usr/local/lib/python3.10/dist-packages\n",
            "Adding pointnet2 3.0.0 to easy-install.pth file\n",
            "\n",
            "Installed /usr/local/lib/python3.10/dist-packages/pointnet2-3.0.0-py3.10.egg\n",
            "Processing dependencies for pointnet2==3.0.0\n",
            "Searching for pytorch-lightning==0.7.1\n",
            "Reading https://pypi.org/simple/pytorch-lightning/\n",
            "Downloading https://files.pythonhosted.org/packages/61/9e/db4e1e3036e045a25d5c37617ded31a673a61f4befc62c5231818810b3a7/pytorch-lightning-0.7.1.tar.gz#sha256=d1848e0170b2eb88e25a6bc011bbecbbc0e1fcd47edb2d2b26070e36755f5b57\n",
            "Best match: pytorch-lightning 0.7.1\n",
            "Processing pytorch-lightning-0.7.1.tar.gz\n",
            "Writing /tmp/easy_install-9qnitf40/pytorch-lightning-0.7.1/setup.cfg\n",
            "Running pytorch-lightning-0.7.1/setup.py -q bdist_egg --dist-dir /tmp/easy_install-9qnitf40/pytorch-lightning-0.7.1/egg-dist-tmp-07bujqz9\n",
            "Partial import of `torchlightning` during the build process.\n",
            "/usr/local/lib/python3.10/dist-packages/setuptools/config/setupcfg.py:293: _DeprecatedConfig: Deprecated config in `setup.cfg`\n",
            "!!\n",
            "\n",
            "        ********************************************************************************\n",
            "        The license_file parameter is deprecated, use license_files instead.\n",
            "\n",
            "        This deprecation is overdue, please update your project and remove deprecated\n",
            "        calls to avoid build errors in the future.\n",
            "\n",
            "        See https://setuptools.pypa.io/en/latest/userguide/declarative_config.html for details.\n",
            "        ********************************************************************************\n",
            "\n",
            "!!\n",
            "  parsed = self.parsers.get(option_name, lambda x: x)(value)\n",
            "warning: no directories found matching 'wheelhouse'\n",
            "warning: no previously-included files matching '*.py[cod]' found under directory '__pycache__'\n",
            "warning: no previously-included files matching '*.orig' found under directory '__pycache__'\n",
            "warning: no previously-included files found matching '*.sh'\n",
            "warning: no previously-included files found matching '*.toml'\n",
            "warning: no previously-included files found matching '*.svg'\n",
            "warning: no previously-included files matching '*' found under directory 'tests'\n",
            "warning: no previously-included files matching '*' found under directory 'site'\n",
            "warning: no previously-included files found matching 'tests'\n",
            "warning: no previously-included files found matching 'docs'\n",
            "warning: no previously-included files found matching '*.yml'\n",
            "no previously-included directories found matching '.git'\n",
            "no previously-included directories found matching '.github'\n",
            "no previously-included directories found matching '.circleci'\n",
            "no previously-included directories found matching 'notebook*'\n",
            "no previously-included directories found matching 'temp*'\n",
            "no previously-included directories found matching 'test*'\n",
            "/usr/local/lib/python3.10/dist-packages/setuptools/_distutils/cmd.py:66: SetuptoolsDeprecationWarning: setup.py install is deprecated.\n",
            "!!\n",
            "\n",
            "        ********************************************************************************\n",
            "        Please avoid running ``setup.py`` directly.\n",
            "        Instead, use pypa/build, pypa/installer, pypa/build or\n",
            "        other standards-based tools.\n",
            "\n",
            "        See https://blog.ganssle.io/articles/2021/10/setup-py-deprecated.html for details.\n",
            "        ********************************************************************************\n",
            "\n",
            "!!\n",
            "  self.initialize_options()\n",
            "/usr/local/lib/python3.10/dist-packages/setuptools/command/build_py.py:201: _Warning: Package 'pl_examples.full_examples.semantic_segmentation' is absent from the `packages` configuration.\n",
            "!!\n",
            "\n",
            "        ********************************************************************************\n",
            "        ############################\n",
            "        # Package would be ignored #\n",
            "        ############################\n",
            "        Python recognizes 'pl_examples.full_examples.semantic_segmentation' as an importable package[^1],\n",
            "        but it is absent from setuptools' `packages` configuration.\n",
            "\n",
            "        This leads to an ambiguous overall configuration. If you want to distribute this\n",
            "        package, please make sure that 'pl_examples.full_examples.semantic_segmentation' is explicitly added\n",
            "        to the `packages` configuration field.\n",
            "\n",
            "        Alternatively, you can also rely on setuptools' discovery methods\n",
            "        (for example by using `find_namespace_packages(...)`/`find_namespace:`\n",
            "        instead of `find_packages(...)`/`find:`).\n",
            "\n",
            "        You can read more about \"package discovery\" on setuptools documentation page:\n",
            "\n",
            "        - https://setuptools.pypa.io/en/latest/userguide/package_discovery.html\n",
            "\n",
            "        If you don't want 'pl_examples.full_examples.semantic_segmentation' to be distributed and are\n",
            "        already explicitly excluding 'pl_examples.full_examples.semantic_segmentation' via\n",
            "        `find_namespace_packages(...)/find_namespace` or `find_packages(...)/find`,\n",
            "        you can try to use `exclude_package_data`, or `include-package-data=False` in\n",
            "        combination with a more fine grained `package-data` configuration.\n",
            "\n",
            "        You can read more about \"package data files\" on setuptools documentation page:\n",
            "\n",
            "        - https://setuptools.pypa.io/en/latest/userguide/datafiles.html\n",
            "\n",
            "\n",
            "        [^1]: For Python, any directory (with suitable naming) can be imported,\n",
            "              even if it does not contain any `.py` files.\n",
            "              On the other hand, currently there is no concept of package data\n",
            "              directory, all directories are treated like packages.\n",
            "        ********************************************************************************\n",
            "\n",
            "!!\n",
            "  check.warn(importable)\n",
            "/usr/local/lib/python3.10/dist-packages/setuptools/command/build_py.py:201: _Warning: Package 'pl_examples.full_examples.semantic_segmentation.models.unet' is absent from the `packages` configuration.\n",
            "!!\n",
            "\n",
            "        ********************************************************************************\n",
            "        ############################\n",
            "        # Package would be ignored #\n",
            "        ############################\n",
            "        Python recognizes 'pl_examples.full_examples.semantic_segmentation.models.unet' as an importable package[^1],\n",
            "        but it is absent from setuptools' `packages` configuration.\n",
            "\n",
            "        This leads to an ambiguous overall configuration. If you want to distribute this\n",
            "        package, please make sure that 'pl_examples.full_examples.semantic_segmentation.models.unet' is explicitly added\n",
            "        to the `packages` configuration field.\n",
            "\n",
            "        Alternatively, you can also rely on setuptools' discovery methods\n",
            "        (for example by using `find_namespace_packages(...)`/`find_namespace:`\n",
            "        instead of `find_packages(...)`/`find:`).\n",
            "\n",
            "        You can read more about \"package discovery\" on setuptools documentation page:\n",
            "\n",
            "        - https://setuptools.pypa.io/en/latest/userguide/package_discovery.html\n",
            "\n",
            "        If you don't want 'pl_examples.full_examples.semantic_segmentation.models.unet' to be distributed and are\n",
            "        already explicitly excluding 'pl_examples.full_examples.semantic_segmentation.models.unet' via\n",
            "        `find_namespace_packages(...)/find_namespace` or `find_packages(...)/find`,\n",
            "        you can try to use `exclude_package_data`, or `include-package-data=False` in\n",
            "        combination with a more fine grained `package-data` configuration.\n",
            "\n",
            "        You can read more about \"package data files\" on setuptools documentation page:\n",
            "\n",
            "        - https://setuptools.pypa.io/en/latest/userguide/datafiles.html\n",
            "\n",
            "\n",
            "        [^1]: For Python, any directory (with suitable naming) can be imported,\n",
            "              even if it does not contain any `.py` files.\n",
            "              On the other hand, currently there is no concept of package data\n",
            "              directory, all directories are treated like packages.\n",
            "        ********************************************************************************\n",
            "\n",
            "!!\n",
            "  check.warn(importable)\n",
            "Adding pytorch-lightning 0.7.1 to easy-install.pth file\n",
            "\n",
            "Installed /usr/local/lib/python3.10/dist-packages/pytorch_lightning-0.7.1-py3.10.egg\n",
            "Searching for hydra-core==0.11.3\n",
            "Reading https://pypi.org/simple/hydra-core/\n",
            "Downloading https://files.pythonhosted.org/packages/28/2f/e8dbf1266062d4041cbdcd725cb91210d9811aefb9cdf5fc04cb381bf9b9/hydra_core-0.11.3-py3-none-any.whl#sha256=43ef27b4a32a70cbf566b10bd198def5c5d03cab212d4ea49e744aeb0c14a6b7\n",
            "Best match: hydra-core 0.11.3\n",
            "Processing hydra_core-0.11.3-py3-none-any.whl\n",
            "Installing hydra_core-0.11.3-py3-none-any.whl to /usr/local/lib/python3.10/dist-packages\n",
            "Adding hydra-core 0.11.3 to easy-install.pth file\n",
            "\n",
            "Installed /usr/local/lib/python3.10/dist-packages/hydra_core-0.11.3-py3.10.egg\n",
            "Searching for omegaconf<1.5,>=1.4\n",
            "Reading https://pypi.org/simple/omegaconf/\n",
            "Downloading https://files.pythonhosted.org/packages/2f/53/d285f1faa36eca666f6d04ac17c5f3a9e72cedaeb530e663fdc025209780/omegaconf-1.4.1-py3-none-any.whl#sha256=01c9f93c3578dce7d42ce06f3d1305437322234ccc1accfc71d344d5e17413a1\n",
            "Best match: omegaconf 1.4.1\n",
            "Processing omegaconf-1.4.1-py3-none-any.whl\n",
            "Installing omegaconf-1.4.1-py3-none-any.whl to /usr/local/lib/python3.10/dist-packages\n",
            "Adding omegaconf 1.4.1 to easy-install.pth file\n",
            "\n",
            "Installed /usr/local/lib/python3.10/dist-packages/omegaconf-1.4.1-py3.10.egg\n",
            "Searching for nvidia-nvtx-cu12==12.1.105; platform_system == \"Linux\" and platform_machine == \"x86_64\"\n",
            "Reading https://pypi.org/simple/nvidia-nvtx-cu12/\n",
            "Downloading https://files.pythonhosted.org/packages/da/d3/8057f0587683ed2fcd4dbfbdfdfa807b9160b809976099d36b8f60d08f03/nvidia_nvtx_cu12-12.1.105-py3-none-manylinux1_x86_64.whl#sha256=dc21cf308ca5691e7c04d962e213f8a4aa9bbfa23d95412f452254c2caeb09e5\n",
            "Best match: nvidia-nvtx-cu12 12.1.105\n",
            "Processing nvidia_nvtx_cu12-12.1.105-py3-none-manylinux1_x86_64.whl\n",
            "Installing nvidia_nvtx_cu12-12.1.105-py3-none-manylinux1_x86_64.whl to /usr/local/lib/python3.10/dist-packages\n",
            "Adding nvidia-nvtx-cu12 12.1.105 to easy-install.pth file\n",
            "\n",
            "Installed /usr/local/lib/python3.10/dist-packages/nvidia_nvtx_cu12-12.1.105-py3.10-linux-x86_64.egg\n",
            "Searching for nvidia-nccl-cu12==2.20.5; platform_system == \"Linux\" and platform_machine == \"x86_64\"\n",
            "Reading https://pypi.org/simple/nvidia-nccl-cu12/\n",
            "Downloading https://files.pythonhosted.org/packages/4b/2a/0a131f572aa09f741c30ccd45a8e56316e8be8dfc7bc19bf0ab7cfef7b19/nvidia_nccl_cu12-2.20.5-py3-none-manylinux2014_x86_64.whl#sha256=057f6bf9685f75215d0c53bf3ac4a10b3e6578351de307abad9e18a99182af56\n",
            "Best match: nvidia-nccl-cu12 2.20.5\n",
            "Processing nvidia_nccl_cu12-2.20.5-py3-none-manylinux2014_x86_64.whl\n",
            "Installing nvidia_nccl_cu12-2.20.5-py3-none-manylinux2014_x86_64.whl to /usr/local/lib/python3.10/dist-packages\n",
            "Adding nvidia-nccl-cu12 2.20.5 to easy-install.pth file\n",
            "\n",
            "Installed /usr/local/lib/python3.10/dist-packages/nvidia_nccl_cu12-2.20.5-py3.10-linux-x86_64.egg\n",
            "Searching for nvidia-cusparse-cu12==12.1.0.106; platform_system == \"Linux\" and platform_machine == \"x86_64\"\n",
            "Reading https://pypi.org/simple/nvidia-cusparse-cu12/\n",
            "Downloading https://files.pythonhosted.org/packages/65/5b/cfaeebf25cd9fdec14338ccb16f6b2c4c7fa9163aefcf057d86b9cc248bb/nvidia_cusparse_cu12-12.1.0.106-py3-none-manylinux1_x86_64.whl#sha256=f3b50f42cf363f86ab21f720998517a659a48131e8d538dc02f8768237bd884c\n",
            "Best match: nvidia-cusparse-cu12 12.1.0.106\n",
            "Processing nvidia_cusparse_cu12-12.1.0.106-py3-none-manylinux1_x86_64.whl\n",
            "Installing nvidia_cusparse_cu12-12.1.0.106-py3-none-manylinux1_x86_64.whl to /usr/local/lib/python3.10/dist-packages\n",
            "Adding nvidia-cusparse-cu12 12.1.0.106 to easy-install.pth file\n",
            "\n",
            "Installed /usr/local/lib/python3.10/dist-packages/nvidia_cusparse_cu12-12.1.0.106-py3.10-linux-x86_64.egg\n",
            "Searching for nvidia-cusolver-cu12==11.4.5.107; platform_system == \"Linux\" and platform_machine == \"x86_64\"\n",
            "Reading https://pypi.org/simple/nvidia-cusolver-cu12/\n",
            "Downloading https://files.pythonhosted.org/packages/bc/1d/8de1e5c67099015c834315e333911273a8c6aaba78923dd1d1e25fc5f217/nvidia_cusolver_cu12-11.4.5.107-py3-none-manylinux1_x86_64.whl#sha256=8a7ec542f0412294b15072fa7dab71d31334014a69f953004ea7a118206fe0dd\n",
            "Best match: nvidia-cusolver-cu12 11.4.5.107\n",
            "Processing nvidia_cusolver_cu12-11.4.5.107-py3-none-manylinux1_x86_64.whl\n",
            "Installing nvidia_cusolver_cu12-11.4.5.107-py3-none-manylinux1_x86_64.whl to /usr/local/lib/python3.10/dist-packages\n",
            "Adding nvidia-cusolver-cu12 11.4.5.107 to easy-install.pth file\n",
            "\n",
            "Installed /usr/local/lib/python3.10/dist-packages/nvidia_cusolver_cu12-11.4.5.107-py3.10-linux-x86_64.egg\n",
            "Searching for nvidia-curand-cu12==10.3.2.106; platform_system == \"Linux\" and platform_machine == \"x86_64\"\n",
            "Reading https://pypi.org/simple/nvidia-curand-cu12/\n",
            "Downloading https://files.pythonhosted.org/packages/44/31/4890b1c9abc496303412947fc7dcea3d14861720642b49e8ceed89636705/nvidia_curand_cu12-10.3.2.106-py3-none-manylinux1_x86_64.whl#sha256=9d264c5036dde4e64f1de8c50ae753237c12e0b1348738169cd0f8a536c0e1e0\n",
            "Best match: nvidia-curand-cu12 10.3.2.106\n",
            "Processing nvidia_curand_cu12-10.3.2.106-py3-none-manylinux1_x86_64.whl\n",
            "Installing nvidia_curand_cu12-10.3.2.106-py3-none-manylinux1_x86_64.whl to /usr/local/lib/python3.10/dist-packages\n",
            "Adding nvidia-curand-cu12 10.3.2.106 to easy-install.pth file\n",
            "\n",
            "Installed /usr/local/lib/python3.10/dist-packages/nvidia_curand_cu12-10.3.2.106-py3.10-linux-x86_64.egg\n",
            "Searching for nvidia-cufft-cu12==11.0.2.54; platform_system == \"Linux\" and platform_machine == \"x86_64\"\n",
            "Reading https://pypi.org/simple/nvidia-cufft-cu12/\n",
            "Downloading https://files.pythonhosted.org/packages/86/94/eb540db023ce1d162e7bea9f8f5aa781d57c65aed513c33ee9a5123ead4d/nvidia_cufft_cu12-11.0.2.54-py3-none-manylinux1_x86_64.whl#sha256=794e3948a1aa71fd817c3775866943936774d1c14e7628c74f6f7417224cdf56\n",
            "Best match: nvidia-cufft-cu12 11.0.2.54\n",
            "Processing nvidia_cufft_cu12-11.0.2.54-py3-none-manylinux1_x86_64.whl\n",
            "Installing nvidia_cufft_cu12-11.0.2.54-py3-none-manylinux1_x86_64.whl to /usr/local/lib/python3.10/dist-packages\n",
            "Adding nvidia-cufft-cu12 11.0.2.54 to easy-install.pth file\n",
            "\n",
            "Installed /usr/local/lib/python3.10/dist-packages/nvidia_cufft_cu12-11.0.2.54-py3.10-linux-x86_64.egg\n",
            "Searching for nvidia-cublas-cu12==12.1.3.1; platform_system == \"Linux\" and platform_machine == \"x86_64\"\n",
            "Reading https://pypi.org/simple/nvidia-cublas-cu12/\n",
            "Downloading https://files.pythonhosted.org/packages/37/6d/121efd7382d5b0284239f4ab1fc1590d86d34ed4a4a2fdb13b30ca8e5740/nvidia_cublas_cu12-12.1.3.1-py3-none-manylinux1_x86_64.whl#sha256=ee53ccca76a6fc08fb9701aa95b6ceb242cdaab118c3bb152af4e579af792728\n",
            "interrupted\n",
            "/content\n"
          ]
        }
      ],
      "source": [
        "# installing pointnet++\n",
        "!pip install ninja\n",
        "!git clone https://github.com/erikwijmans/Pointnet2_PyTorch\n",
        "%cd /content/Pointnet2_PyTorch\n",
        "!python setup.py install\n",
        "\n",
        "# moving to root directory\n",
        "%cd .."
      ]
    },
    {
      "cell_type": "code",
      "source": [
        "!git clone https://github.com/unlimblue/KNN_CUDA.git\n",
        "%cd KNN_CUDA\n",
        "!make && make install"
      ],
      "metadata": {
        "id": "N1OigFSkOb6L",
        "colab": {
          "base_uri": "https://localhost:8080/"
        },
        "outputId": "4b37c037-ce07-45f2-fc33-dd6cb3f3887c"
      },
      "execution_count": null,
      "outputs": [
        {
          "output_type": "stream",
          "name": "stdout",
          "text": [
            "Cloning into 'KNN_CUDA'...\n",
            "remote: Enumerating objects: 78, done.\u001b[K\n",
            "remote: Counting objects: 100% (19/19), done.\u001b[K\n",
            "remote: Compressing objects: 100% (16/16), done.\u001b[K\n",
            "remote: Total 78 (delta 5), reused 11 (delta 2), pack-reused 59\u001b[K\n",
            "Receiving objects: 100% (78/78), 106.63 KiB | 814.00 KiB/s, done.\n",
            "Resolving deltas: 100% (23/23), done.\n",
            "/content/KNN_CUDA\n",
            "pip3 install -r requirements.txt\n",
            "Requirement already satisfied: numpy in /usr/local/lib/python3.10/dist-packages (from -r requirements.txt (line 1)) (1.25.2)\n",
            "Requirement already satisfied: scikit_learn in /usr/local/lib/python3.10/dist-packages (from -r requirements.txt (line 2)) (1.2.2)\n",
            "Requirement already satisfied: torch>=1.1.0 in /usr/local/lib/python3.10/dist-packages (from -r requirements.txt (line 3)) (2.3.0+cu121)\n",
            "Requirement already satisfied: scipy>=1.3.2 in /usr/local/lib/python3.10/dist-packages (from scikit_learn->-r requirements.txt (line 2)) (1.11.4)\n",
            "Requirement already satisfied: joblib>=1.1.1 in /usr/local/lib/python3.10/dist-packages (from scikit_learn->-r requirements.txt (line 2)) (1.4.2)\n",
            "Requirement already satisfied: threadpoolctl>=2.0.0 in /usr/local/lib/python3.10/dist-packages (from scikit_learn->-r requirements.txt (line 2)) (3.5.0)\n",
            "Requirement already satisfied: filelock in /usr/local/lib/python3.10/dist-packages (from torch>=1.1.0->-r requirements.txt (line 3)) (3.14.0)\n",
            "Requirement already satisfied: typing-extensions>=4.8.0 in /usr/local/lib/python3.10/dist-packages (from torch>=1.1.0->-r requirements.txt (line 3)) (4.11.0)\n",
            "Requirement already satisfied: sympy in /usr/local/lib/python3.10/dist-packages (from torch>=1.1.0->-r requirements.txt (line 3)) (1.12)\n",
            "Requirement already satisfied: networkx in /usr/local/lib/python3.10/dist-packages (from torch>=1.1.0->-r requirements.txt (line 3)) (3.3)\n",
            "Requirement already satisfied: jinja2 in /usr/local/lib/python3.10/dist-packages (from torch>=1.1.0->-r requirements.txt (line 3)) (3.1.4)\n",
            "Requirement already satisfied: fsspec in /usr/local/lib/python3.10/dist-packages (from torch>=1.1.0->-r requirements.txt (line 3)) (2023.6.0)\n",
            "Collecting nvidia-cuda-nvrtc-cu12==12.1.105 (from torch>=1.1.0->-r requirements.txt (line 3))\n",
            "  Using cached nvidia_cuda_nvrtc_cu12-12.1.105-py3-none-manylinux1_x86_64.whl (23.7 MB)\n",
            "Collecting nvidia-cuda-runtime-cu12==12.1.105 (from torch>=1.1.0->-r requirements.txt (line 3))\n",
            "  Using cached nvidia_cuda_runtime_cu12-12.1.105-py3-none-manylinux1_x86_64.whl (823 kB)\n",
            "Collecting nvidia-cuda-cupti-cu12==12.1.105 (from torch>=1.1.0->-r requirements.txt (line 3))\n",
            "  Using cached nvidia_cuda_cupti_cu12-12.1.105-py3-none-manylinux1_x86_64.whl (14.1 MB)\n",
            "Collecting nvidia-cudnn-cu12==8.9.2.26 (from torch>=1.1.0->-r requirements.txt (line 3))\n"
          ]
        }
      ]
    },
    {
      "cell_type": "code",
      "source": [
        "%cd /content/"
      ],
      "metadata": {
        "id": "hgqZGlDJk0eq"
      },
      "execution_count": null,
      "outputs": []
    },
    {
      "cell_type": "code",
      "execution_count": null,
      "metadata": {
        "id": "xvovuXg5Owul"
      },
      "outputs": [],
      "source": [
        "# install minimal requirements (pytorch is already installed in colab)\n",
        "!pip install timm==0.5.4 wandb tqdm h5py==3.6.0 protobuf==3.20.1 lmdb==1.2.1 msgpack-numpy==0.4.7.1 scikit-learn torchlars"
      ]
    },
    {
      "cell_type": "code",
      "execution_count": null,
      "metadata": {
        "id": "JTcB6Pf3KqvK"
      },
      "outputs": [],
      "source": [
        "# made a new repo for you starting from 3DOS with modifications to help you running the code with colab.\n",
        "!git clone https://github.com/Hosseinkakavand1376/AML_3DOS"
      ]
    },
    {
      "cell_type": "code",
      "execution_count": null,
      "metadata": {
        "id": "p3OBAkz4W-z3"
      },
      "outputs": [],
      "source": [
        "!ls"
      ]
    },
    {
      "cell_type": "code",
      "execution_count": null,
      "metadata": {
        "id": "2eOK84HKLBHt"
      },
      "outputs": [],
      "source": [
        "# Move to the project directory after Git clone\n",
        "%cd /content/AML_3DOS"
      ]
    },
    {
      "cell_type": "code",
      "execution_count": null,
      "metadata": {
        "id": "DVcINAahYHP9"
      },
      "outputs": [],
      "source": [
        "!ls /content/AML_3DOS"
      ]
    },
    {
      "cell_type": "code",
      "execution_count": null,
      "metadata": {
        "id": "AN5yi0DyQYiR"
      },
      "outputs": [],
      "source": [
        "# check we're in project directory (should be AML_3DOS)\n",
        "!pwd"
      ]
    },
    {
      "cell_type": "code",
      "execution_count": null,
      "metadata": {
        "id": "xNDO3bjbLMzJ"
      },
      "outputs": [],
      "source": [
        "!sh download_data.sh"
      ]
    },
    {
      "cell_type": "code",
      "source": [
        "!python classifiers/trainer_openshape.py --config cfgs/dgcnn-cla.yaml --exp_name Openshabe B32-SR1 --src SR1 --loss CE --ckpt_path /content/model_last.pt > Openshabe B32-SR1.txt"
      ],
      "metadata": {
        "id": "B669ygtBWLS8"
      },
      "execution_count": null,
      "outputs": []
    },
    {
      "cell_type": "code",
      "source": [
        "!python classifiers/trainer_openshape.py --config cfgs/dgcnn-cla.yaml --exp_name Openshabe B32-SR2 --src SR2 --loss CE --ckpt_path /content/model_last.pt > Openshabe B32-SR2.txt"
      ],
      "metadata": {
        "id": "T2eXCJj1XPwn"
      },
      "execution_count": null,
      "outputs": []
    },
    {
      "cell_type": "code",
      "source": [
        "!python classifiers/trainer_Failcases.py --config cfgs/dgcnn-cla.yaml --exp_name DGCNN_CE_SR1_Failcases --src SR1 --loss CE -mode eval --ckpt_path /content/model_last.pth > Failcases_SR1_output.txt"
      ],
      "metadata": {
        "id": "H2K8n6eIIL64"
      },
      "execution_count": null,
      "outputs": []
    },
    {
      "cell_type": "code",
      "source": [
        "!python classifiers/trainer_Failcases.py --config cfgs/dgcnn-cla.yaml --exp_name DGCNN_CE_SR2_Failcases --src SR2 --loss CE -mode eval --ckpt_path /content/Last_model_SR23/model_last.pth > Failcases_SR2_output.txt"
      ],
      "metadata": {
        "id": "Pe00aPjkM6Ks"
      },
      "execution_count": null,
      "outputs": []
    }
  ],
  "metadata": {
    "colab": {
      "provenance": [],
      "gpuType": "T4"
    },
    "kernelspec": {
      "display_name": "Python 3",
      "name": "python3"
    },
    "language_info": {
      "name": "python"
    },
    "accelerator": "GPU"
  },
  "nbformat": 4,
  "nbformat_minor": 0
}